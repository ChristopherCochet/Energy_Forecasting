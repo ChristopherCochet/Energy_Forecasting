{
 "cells": [
  {
   "cell_type": "markdown",
   "metadata": {},
   "source": [
    "## Importing the libraries"
   ]
  },
  {
   "cell_type": "code",
   "execution_count": 204,
   "metadata": {},
   "outputs": [],
   "source": [
    "# importing libraries\n",
    "import numpy as np\n",
    "import pandas as pd\n",
    "import matplotlib.pyplot as plt\n",
    "import seaborn as sns\n",
    "#inline matplotlib"
   ]
  },
  {
   "cell_type": "markdown",
   "metadata": {},
   "source": [
    "## Importing the data "
   ]
  },
  {
   "cell_type": "code",
   "execution_count": 205,
   "metadata": {},
   "outputs": [],
   "source": [
    "# Importing the data\n",
    "energy = pd.read_csv(\"consumption_train.csv\", index_col=0)\n",
    "meta = pd.read_csv(\"meta.csv\")"
   ]
  },
  {
   "cell_type": "markdown",
   "metadata": {},
   "source": [
    "## Extracting the dimensions of each dataset"
   ]
  },
  {
   "cell_type": "code",
   "execution_count": 206,
   "metadata": {},
   "outputs": [
    {
     "name": "stdout",
     "output_type": "stream",
     "text": [
      "The columns are => Index(['series_id', 'timestamp', 'consumption', 'temperature'], dtype='object')\n",
      "The timeseries dataset dimensions are => (509376, 4)\n",
      "The metadata dataset dimensions are => (1383, 10)\n"
     ]
    }
   ],
   "source": [
    "# Printing the column names and dimension of both data sets\n",
    "print(\"The columns are =>\", energy.columns)\n",
    "print(\"The timeseries dataset dimensions are =>\", energy.shape)\n",
    "print(\"The metadata dataset dimensions are =>\", meta.shape)"
   ]
  },
  {
   "cell_type": "code",
   "execution_count": 221,
   "metadata": {},
   "outputs": [
    {
     "name": "stdout",
     "output_type": "stream",
     "text": [
      "<class 'pandas.core.frame.DataFrame'>\n",
      "Int64Index: 509376 entries, 0 to 509375\n",
      "Data columns (total 4 columns):\n",
      "series_id      509376 non-null int64\n",
      "timestamp      509376 non-null object\n",
      "consumption    509376 non-null float64\n",
      "temperature    280687 non-null float64\n",
      "dtypes: float64(2), int64(1), object(1)\n",
      "memory usage: 19.4+ MB\n",
      "None\n",
      "\n",
      "<class 'pandas.core.frame.DataFrame'>\n",
      "RangeIndex: 1383 entries, 0 to 1382\n",
      "Data columns (total 10 columns):\n",
      "series_id               1383 non-null int64\n",
      "surface                 1383 non-null object\n",
      "base_temperature        1383 non-null object\n",
      "monday_is_day_off       1383 non-null bool\n",
      "tuesday_is_day_off      1383 non-null bool\n",
      "wednesday_is_day_off    1383 non-null bool\n",
      "thursday_is_day_off     1383 non-null bool\n",
      "friday_is_day_off       1383 non-null bool\n",
      "saturday_is_day_off     1383 non-null bool\n",
      "sunday_is_day_off       1383 non-null bool\n",
      "dtypes: bool(7), int64(1), object(2)\n",
      "memory usage: 41.9+ KB\n",
      "None\n"
     ]
    }
   ],
   "source": [
    "# Preview of the datasets\n",
    "print(energy.info())\n",
    "print()\n",
    "print(meta.info())"
   ]
  },
  {
   "cell_type": "markdown",
   "metadata": {},
   "source": [
    "## Counting the missing values"
   ]
  },
  {
   "cell_type": "code",
   "execution_count": 211,
   "metadata": {},
   "outputs": [
    {
     "name": "stdout",
     "output_type": "stream",
     "text": [
      "series_id           0\n",
      "timestamp           0\n",
      "consumption         0\n",
      "temperature    228689\n",
      "dtype: int64\n",
      "\n",
      "series_id               0\n",
      "surface                 0\n",
      "base_temperature        0\n",
      "monday_is_day_off       0\n",
      "tuesday_is_day_off      0\n",
      "wednesday_is_day_off    0\n",
      "thursday_is_day_off     0\n",
      "friday_is_day_off       0\n",
      "saturday_is_day_off     0\n",
      "sunday_is_day_off       0\n",
      "dtype: int64\n"
     ]
    }
   ],
   "source": [
    "# Counting missing values\n",
    "print(energy.isnull().sum())\n",
    "print()\n",
    "print(meta.isnull().sum())"
   ]
  },
  {
   "cell_type": "markdown",
   "metadata": {},
   "source": [
    "## Exploratory Data Analysis\n",
    "### Correlation between energy consumption and temperature"
   ]
  },
  {
   "cell_type": "code",
   "execution_count": 213,
   "metadata": {},
   "outputs": [
    {
     "data": {
      "text/html": [
       "<div>\n",
       "<style scoped>\n",
       "    .dataframe tbody tr th:only-of-type {\n",
       "        vertical-align: middle;\n",
       "    }\n",
       "\n",
       "    .dataframe tbody tr th {\n",
       "        vertical-align: top;\n",
       "    }\n",
       "\n",
       "    .dataframe thead th {\n",
       "        text-align: right;\n",
       "    }\n",
       "</style>\n",
       "<table border=\"1\" class=\"dataframe\">\n",
       "  <thead>\n",
       "    <tr style=\"text-align: right;\">\n",
       "      <th></th>\n",
       "      <th>series_id</th>\n",
       "      <th>consumption</th>\n",
       "      <th>temperature</th>\n",
       "    </tr>\n",
       "  </thead>\n",
       "  <tbody>\n",
       "    <tr>\n",
       "      <th>series_id</th>\n",
       "      <td>1.000000</td>\n",
       "      <td>0.013681</td>\n",
       "      <td>-0.116543</td>\n",
       "    </tr>\n",
       "    <tr>\n",
       "      <th>consumption</th>\n",
       "      <td>0.013681</td>\n",
       "      <td>1.000000</td>\n",
       "      <td>0.099456</td>\n",
       "    </tr>\n",
       "    <tr>\n",
       "      <th>temperature</th>\n",
       "      <td>-0.116543</td>\n",
       "      <td>0.099456</td>\n",
       "      <td>1.000000</td>\n",
       "    </tr>\n",
       "  </tbody>\n",
       "</table>\n",
       "</div>"
      ],
      "text/plain": [
       "             series_id  consumption  temperature\n",
       "series_id     1.000000     0.013681    -0.116543\n",
       "consumption   0.013681     1.000000     0.099456\n",
       "temperature  -0.116543     0.099456     1.000000"
      ]
     },
     "execution_count": 213,
     "metadata": {},
     "output_type": "execute_result"
    },
    {
     "data": {
      "image/png": "[encoded data removed]",
      "text/plain": [
       "<Figure size 432x288 with 2 Axes>"
      ]
     },
     "metadata": {},
     "output_type": "display_data"
    }
   ],
   "source": [
    "# Getting correlational heatmap, focussing on the potential relationship between consumption and temperature\n",
    "corr = energy.corr()\n",
    "sns.heatmap(corr, \n",
    "          xticklabels=corr.columns.values,\n",
    "          yticklabels=corr.columns.values)\n",
    "corr"
   ]
  },
  {
   "cell_type": "code",
   "execution_count": 80,
   "metadata": {},
   "outputs": [
    {
     "name": "stdout",
     "output_type": "stream",
     "text": [
      "Different levels of the surface feature: ['x-large' 'x-small' 'medium' 'large' 'xx-large' 'xx-small' 'small']\n",
      "Different levels of the base_temperature feature: ['low' 'high']\n"
     ]
    }
   ],
   "source": [
    "new_col = [\"monday\", \"tuesday\", \"wednesday\", \"thursday\", \"friday\", \"saturday\", \"sunday\"]\n",
    "cols = [\"monday_is_day_off\", \"tuesday_is_day_off\", \"wednesday_is_day_off\", \"thursday_is_day_off\",\n",
    "       \"friday_is_day_off\", \"saturday_is_day_off\", \"sunday_is_day_off\"]\n",
    "\n",
    "def add_empty_col(df, col):\n",
    "    df[col] = 0\n",
    "\n",
    "def convert_bool_binary(df, col, new_col):\n",
    "    for i in range(len(df)):\n",
    "        if df[col][i] == False:\n",
    "            df[new_col][i] = 0\n",
    "        else:\n",
    "            df[new_col][i] = 1\n",
    "            \n",
    "#Looking for potential grouping patterns in days of the week ON/OFF\n",
    "print(\"Different levels of the surface feature:\",meta.surface.unique())\n",
    "print(\"Different levels of the base_temperature feature:\", meta.base_temperature.unique())\n",
    "\n",
    "# Adding new empty columns (see above [new_col]) to fill them in with binary variable\n",
    "# on whether it is a day OFF/ON\n",
    "for i in new_col:\n",
    "    add_empty_col(meta, i)\n",
    "    \n",
    "\n",
    "\n",
    "# This is highly inefficient!!! See if we can vectorized the above function \n",
    "convert_bool_binary(meta, \"monday_is_day_off\", \"monday\")\n",
    "convert_bool_binary(meta, \"tuesday_is_day_off\", \"tuesday\")\n",
    "convert_bool_binary(meta, \"wednesday_is_day_off\", \"wednesday\")\n",
    "convert_bool_binary(meta, \"thursday_is_day_off\", \"thursday\")\n",
    "convert_bool_binary(meta, \"friday_is_day_off\", \"friday\")\n",
    "convert_bool_binary(meta, \"saturday_is_day_off\", \"saturday\")\n",
    "convert_bool_binary(meta, \"sunday_is_day_off\", \"sunday\")\n",
    "\n",
    "# Creating a new descriptive feature where a vector is created representing if power is shut down (i.e., 1) \n",
    "# or turn on (i.e., 0). This will help grouping similar buildings together \n",
    "meta[\"weekly\"] = meta.monday.map(str) + meta.tuesday.map(str) + meta.wednesday.map(str) + meta.thursday.map(str) + meta.friday.map(str) + met"
   ]
  },
  {
   "cell_type": "markdown",
   "metadata": {},
   "source": [
    "## EDA 2 - Looking At The Count Of Each Weekly Group"
   ]
  },
  {
   "cell_type": "code",
   "execution_count": 215,
   "metadata": {},
   "outputs": [
    {
     "ename": "ValueError",
     "evalue": "Could not interpret input 'weekly'",
     "output_type": "error",
     "traceback": [
      "\u001b[0;31m---------------------------------------------------------------------------\u001b[0m",
      "\u001b[0;31mValueError\u001b[0m                                Traceback (most recent call last)",
      "\u001b[0;32m<ipython-input-215-e1f9d2f6185b>\u001b[0m in \u001b[0;36m<module>\u001b[0;34m()\u001b[0m\n\u001b[1;32m      1\u001b[0m \u001b[0;31m# Number of buildings in each weekly group\u001b[0m\u001b[0;34m\u001b[0m\u001b[0;34m\u001b[0m\u001b[0m\n\u001b[0;32m----> 2\u001b[0;31m \u001b[0msns\u001b[0m\u001b[0;34m.\u001b[0m\u001b[0mcountplot\u001b[0m\u001b[0;34m(\u001b[0m\u001b[0mx\u001b[0m\u001b[0;34m=\u001b[0m\u001b[0;34m\"weekly\"\u001b[0m\u001b[0;34m,\u001b[0m \u001b[0mdata\u001b[0m\u001b[0;34m=\u001b[0m\u001b[0mmeta\u001b[0m\u001b[0;34m)\u001b[0m\u001b[0;34m\u001b[0m\u001b[0m\n\u001b[0m",
      "\u001b[0;32m~/anaconda3/lib/python3.6/site-packages/seaborn/categorical.py\u001b[0m in \u001b[0;36mcountplot\u001b[0;34m(x, y, hue, data, order, hue_order, orient, color, palette, saturation, dodge, ax, **kwargs)\u001b[0m\n\u001b[1;32m   3551\u001b[0m                           \u001b[0mestimator\u001b[0m\u001b[0;34m,\u001b[0m \u001b[0mci\u001b[0m\u001b[0;34m,\u001b[0m \u001b[0mn_boot\u001b[0m\u001b[0;34m,\u001b[0m \u001b[0munits\u001b[0m\u001b[0;34m,\u001b[0m\u001b[0;34m\u001b[0m\u001b[0m\n\u001b[1;32m   3552\u001b[0m                           \u001b[0morient\u001b[0m\u001b[0;34m,\u001b[0m \u001b[0mcolor\u001b[0m\u001b[0;34m,\u001b[0m \u001b[0mpalette\u001b[0m\u001b[0;34m,\u001b[0m \u001b[0msaturation\u001b[0m\u001b[0;34m,\u001b[0m\u001b[0;34m\u001b[0m\u001b[0m\n\u001b[0;32m-> 3553\u001b[0;31m                           errcolor, errwidth, capsize, dodge)\n\u001b[0m\u001b[1;32m   3554\u001b[0m \u001b[0;34m\u001b[0m\u001b[0m\n\u001b[1;32m   3555\u001b[0m     \u001b[0mplotter\u001b[0m\u001b[0;34m.\u001b[0m\u001b[0mvalue_label\u001b[0m \u001b[0;34m=\u001b[0m \u001b[0;34m\"count\"\u001b[0m\u001b[0;34m\u001b[0m\u001b[0m\n",
      "\u001b[0;32m~/anaconda3/lib/python3.6/site-packages/seaborn/categorical.py\u001b[0m in \u001b[0;36m__init__\u001b[0;34m(self, x, y, hue, data, order, hue_order, estimator, ci, n_boot, units, orient, color, palette, saturation, errcolor, errwidth, capsize, dodge)\u001b[0m\n\u001b[1;32m   1605\u001b[0m         \u001b[0;34m\"\"\"Initialize the plotter.\"\"\"\u001b[0m\u001b[0;34m\u001b[0m\u001b[0m\n\u001b[1;32m   1606\u001b[0m         self.establish_variables(x, y, hue, data, orient,\n\u001b[0;32m-> 1607\u001b[0;31m                                  order, hue_order, units)\n\u001b[0m\u001b[1;32m   1608\u001b[0m         \u001b[0mself\u001b[0m\u001b[0;34m.\u001b[0m\u001b[0mestablish_colors\u001b[0m\u001b[0;34m(\u001b[0m\u001b[0mcolor\u001b[0m\u001b[0;34m,\u001b[0m \u001b[0mpalette\u001b[0m\u001b[0;34m,\u001b[0m \u001b[0msaturation\u001b[0m\u001b[0;34m)\u001b[0m\u001b[0;34m\u001b[0m\u001b[0m\n\u001b[1;32m   1609\u001b[0m         \u001b[0mself\u001b[0m\u001b[0;34m.\u001b[0m\u001b[0mestimate_statistic\u001b[0m\u001b[0;34m(\u001b[0m\u001b[0mestimator\u001b[0m\u001b[0;34m,\u001b[0m \u001b[0mci\u001b[0m\u001b[0;34m,\u001b[0m \u001b[0mn_boot\u001b[0m\u001b[0;34m)\u001b[0m\u001b[0;34m\u001b[0m\u001b[0m\n",
      "\u001b[0;32m~/anaconda3/lib/python3.6/site-packages/seaborn/categorical.py\u001b[0m in \u001b[0;36mestablish_variables\u001b[0;34m(self, x, y, hue, data, orient, order, hue_order, units)\u001b[0m\n\u001b[1;32m    153\u001b[0m                 \u001b[0;32mif\u001b[0m \u001b[0misinstance\u001b[0m\u001b[0;34m(\u001b[0m\u001b[0minput\u001b[0m\u001b[0;34m,\u001b[0m \u001b[0mstring_types\u001b[0m\u001b[0;34m)\u001b[0m\u001b[0;34m:\u001b[0m\u001b[0;34m\u001b[0m\u001b[0m\n\u001b[1;32m    154\u001b[0m                     \u001b[0merr\u001b[0m \u001b[0;34m=\u001b[0m \u001b[0;34m\"Could not interpret input '{}'\"\u001b[0m\u001b[0;34m.\u001b[0m\u001b[0mformat\u001b[0m\u001b[0;34m(\u001b[0m\u001b[0minput\u001b[0m\u001b[0;34m)\u001b[0m\u001b[0;34m\u001b[0m\u001b[0m\n\u001b[0;32m--> 155\u001b[0;31m                     \u001b[0;32mraise\u001b[0m \u001b[0mValueError\u001b[0m\u001b[0;34m(\u001b[0m\u001b[0merr\u001b[0m\u001b[0;34m)\u001b[0m\u001b[0;34m\u001b[0m\u001b[0m\n\u001b[0m\u001b[1;32m    156\u001b[0m \u001b[0;34m\u001b[0m\u001b[0m\n\u001b[1;32m    157\u001b[0m             \u001b[0;31m# Figure out the plotting orientation\u001b[0m\u001b[0;34m\u001b[0m\u001b[0;34m\u001b[0m\u001b[0m\n",
      "\u001b[0;31mValueError\u001b[0m: Could not interpret input 'weekly'"
     ]
    }
   ],
   "source": [
    "# Number of buildings in each weekly group\n",
    "sns.countplot(x=\"weekly\", data=meta)"
   ]
  },
  {
   "cell_type": "markdown",
   "metadata": {},
   "source": [
    "Looking at the last table, we get some more insights on power utilization. We can observe a higher number\n",
    "buildings (e.g., 1236) having the power turned on. Now, it would be interesting to look if these patterns correlate with the spikes observed in the timeseries. If so, we can think of creating 7 different models, each locked to a specific power usage.  \n",
    "    \n",
    " N.B.: The notation on the x-axis is quite confusing. Here is the legend associated with it:\n",
    "     - 0000000 => Mon-Tues-Wed-Thu-Fri-Sat-Sun :  104\n",
    "    -  0000001 => Mon-Tues-Wed-Thu-Fri-Sat     :   21\n",
    "    -  0000010 => Mon-Tues-Wed-Thu-Fri-Sun     :    5\n",
    "    -  0000011 => Mon-Tues-Wed-Thu-Fri         : 1236\n",
    "    -  0000111 => Mon-Tues-Wed-Thu             :   10\n",
    "    -  0011111 => Mon-Tues                     :    3\n",
    "    -  1111111 => No days on                   :    4"
   ]
  },
  {
   "cell_type": "code",
   "execution_count": 195,
   "metadata": {},
   "outputs": [
    {
     "data": {
      "text/plain": [
       "<matplotlib.axes._subplots.AxesSubplot at 0x1a1fa7f8d0>"
      ]
     },
     "execution_count": 195,
     "metadata": {},
     "output_type": "execute_result"
    },
    {
     "data": {
      "image/png": "[encoded data removed]",
      "text/plain": [
       "<Figure size 720x432 with 1 Axes>"
      ]
     },
     "metadata": {},
     "output_type": "display_data"
    }
   ],
   "source": [
    "# Number of buildings for each weekly group deparated by their surface\n",
    "plt.figure(figsize=(10,6))\n",
    "sns.countplot(x=\"weekly\", data=meta, hue=\"surface\")"
   ]
  },
  {
   "cell_type": "code",
   "execution_count": null,
   "metadata": {},
   "outputs": [],
   "source": []
  }
 ],
 "metadata": {
  "kernelspec": {
   "display_name": "Python [conda env:anaconda3]",
   "language": "python",
   "name": "conda-env-anaconda3-py"
  },
  "language_info": {
   "codemirror_mode": {
    "name": "ipython",
    "version": 3
   },
   "file_extension": ".py",
   "mimetype": "text/x-python",
   "name": "python",
   "nbconvert_exporter": "python",
   "pygments_lexer": "ipython3",
   "version": "3.6.4"
  }
 },
 "nbformat": 4,
 "nbformat_minor": 2
}
