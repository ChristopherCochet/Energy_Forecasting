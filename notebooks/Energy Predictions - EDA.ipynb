{
 "cells": [
  {
   "cell_type": "markdown",
   "metadata": {},
   "source": [
    "# Power Laws: Cold Start Energy Forecasting\n",
    "\n",
    "\n",
    "## Background\n",
    "\n",
    "Building energy forecasting has gained momentum with the increase of building energy efficiency research and solution development. Indeed, forecasting the global energy consumption of a building can play a pivotal role in the operations of the building. \n",
    "\n",
    "It provides an initial check for facility managers and building automation systems to mark any discrepancy between expected and actual energy use. Accurate energy consumption forecasts are also used by facility managers, utility companies and building commissioning projects to implement energy-saving policies and optimize the operations of chillers, boilers and energy storage systems.\n",
    "\n",
    "Usually, forecasting algorithms use historical information to compute their forecast. Most of the time, the bigger the historic dataset, the more accurate the forecast. This requirement presents a big challenge: how can we make accurate predictions for new buildings, which don't have a long consumption history?\n",
    "\n",
    "![Building Energy](https://www.schneider-electric.co.nz/en/Images/4210283-980x490.jpg) \n",
    "\n",
    "source: Schneider-Electric\n",
    "\n",
    "\n",
    "## Business Objectives\n",
    "\n",
    "Develop a model to accuratly predict energy consumption for new buildings which don't have a long data consumption history.\n",
    "\n",
    "The objective is to forecast energy consumption from varying amounts of \"cold start\" data, and other building information. That means that for each building in the test set there is a small amount of data used to predict into the future.\n",
    "\n",
    "Three time horizons for predictions are distinguished. The goal is either:\n",
    "\n",
    "* To forecast the consumption for each hour for a day (24 predictions).\n",
    "* To forecast the consumption for each day for a week (7 predictions).\n",
    "* To forecast the consumption for each week for two weeks (2 predictions).\n",
    "</br>\n",
    "Reference: https://www.drivendata.org/competitions/55/schneider-cold-start"
   ]
  },
  {
   "cell_type": "markdown",
   "metadata": {},
   "source": [
    "## Project Notebooks Reference Links\n",
    "\n",
    "EDA >>> Data Clean-up & Pre_processing >>> Model Fine-tuning | Modelling & Predictions  "
   ]
  },
  {
   "cell_type": "markdown",
   "metadata": {},
   "source": [
    "# Exploratory Data Analysis¶"
   ]
  },
  {
   "cell_type": "markdown",
   "metadata": {},
   "source": [
    "## Import Libraries\n",
    "Import libraries necessary to get the exploratory data analysis (EDA) part of the project set-up"
   ]
  },
  {
   "cell_type": "code",
   "execution_count": 1,
   "metadata": {},
   "outputs": [],
   "source": [
    "import pandas as pd\n",
    "import numpy as np\n",
    "import matplotlib.pyplot as plt\n",
    "import seaborn as sns\n",
    "%matplotlib inline"
   ]
  },
  {
   "cell_type": "markdown",
   "metadata": {},
   "source": [
    "## Energy Forecasting Data Set and Files\n",
    "\n",
    "Read in the building conspution and meta data files stored in the directory raw into Pandas dataframes"
   ]
  },
  {
   "cell_type": "code",
   "execution_count": 65,
   "metadata": {},
   "outputs": [
    {
     "name": "stdout",
     "output_type": "stream",
     "text": [
      " Volume in drive E is DATA\n",
      " Volume Serial Number is 6E98-6AE7\n",
      "\n",
      " Directory of E:\\GitHub\\DataDriven.org\\Energy_Forecasting\\data\\raw\n",
      "\n",
      "09/30/2018  06:55 PM    <DIR>          .\n",
      "09/30/2018  06:55 PM    <DIR>          ..\n",
      "09/30/2018  06:51 PM                 0 .gitkeep\n",
      "09/29/2018  10:41 AM         6,439,151 cold_start_test.csv\n",
      "09/30/2018  06:54 PM        29,323,946 consumption_train.csv\n",
      "09/30/2018  06:54 PM            81,565 meta.csv\n",
      "09/30/2018  06:55 PM           376,747 submission_format.csv\n",
      "               5 File(s)     36,221,409 bytes\n",
      "               2 Dir(s)  1,904,341,856,256 bytes free\n"
     ]
    }
   ],
   "source": [
    "raw_data_directory = \"..\\\\data\\\\raw\\\\\"\n",
    "!dir $raw_data_directory"
   ]
  },
  {
   "cell_type": "code",
   "execution_count": 66,
   "metadata": {},
   "outputs": [
    {
     "name": "stdout",
     "output_type": "stream",
     "text": [
      "Energy Forecasting data files ..\\data\\raw\\cold_start_test.csv has 111984 samples with 5 features each\n",
      "Energy Forecasting data files ..\\data\\raw\\consumption_train.csv has 509376 samples with 5 features each\n",
      "Energy Forecasting data files ..\\data\\raw\\meta.csv has 1383 samples with 10 features each\n"
     ]
    }
   ],
   "source": [
    "# Data files to read\n",
    "csv_data_sets = ['cold_start_test.csv', 'consumption_train.csv', 'meta.csv']\n",
    "df_list = [] \n",
    "\n",
    "df_i = 0\n",
    "# Read in the training values, training labels and testing data sets\n",
    "for i in csv_data_sets:\n",
    "    try:\n",
    "        data_file = raw_data_directory + i\n",
    "        df_list.append(pd.read_csv(data_file))\n",
    "        print(\"Energy Forecasting data files {} has {} samples with {} features each\".format(data_file, *df_list[df_i].shape))\n",
    "    except:\n",
    "        print(\"Energy Forecasting data files {} could not be loaded. Is the dataset missing?\".format(data_file))\n",
    "    df_i+=1"
   ]
  },
  {
   "cell_type": "code",
   "execution_count": 67,
   "metadata": {},
   "outputs": [
    {
     "name": "stdout",
     "output_type": "stream",
     "text": [
      "Confirm shapes of Pandas dataframes: (111984, 5) (509376, 5) (1383, 10)\n"
     ]
    }
   ],
   "source": [
    "# set up the data frames that we will be using to perform EDA \n",
    "test_df = df_list[0]\n",
    "train_df = df_list[1]\n",
    "meta_df = df_list[2]\n",
    "print(\"Confirm shapes of Pandas dataframes:\",test_df.shape, train_df.shape, meta_df.shape)"
   ]
  },
  {
   "cell_type": "markdown",
   "metadata": {},
   "source": [
    "## Exploration of Features\n",
    "\n",
    "Below is a data dictionary provided (source:https://www.drivendata.org/competitions/55/schneider-cold-start/page/111/#features_list)\n",
    "\n",
    "#### Historical consumption data set (consumption_train.csv)\n",
    "\n",
    "Time series data of consumption and temperature data identified by their series_id.\n",
    "\n",
    "* series_id - An ID number for the time series, matches across datasets\n",
    "* timestamp - The time of the measurement\n",
    "* consumption - Consumption (watt-hours) since the last measurement\n",
    "* temperature - Outdoor temperature (Celsius) during measurement from nearby weather stations, some values missing"
   ]
  },
  {
   "cell_type": "code",
   "execution_count": 81,
   "metadata": {},
   "outputs": [
    {
     "data": {
      "text/html": [
       "<div>\n",
       "<style scoped>\n",
       "    .dataframe tbody tr th:only-of-type {\n",
       "        vertical-align: middle;\n",
       "    }\n",
       "\n",
       "    .dataframe tbody tr th {\n",
       "        vertical-align: top;\n",
       "    }\n",
       "\n",
       "    .dataframe thead th {\n",
       "        text-align: right;\n",
       "    }\n",
       "</style>\n",
       "<table border=\"1\" class=\"dataframe\">\n",
       "  <thead>\n",
       "    <tr style=\"text-align: right;\">\n",
       "      <th></th>\n",
       "      <th>Unnamed: 0</th>\n",
       "      <th>series_id</th>\n",
       "      <th>timestamp</th>\n",
       "      <th>consumption</th>\n",
       "      <th>temperature</th>\n",
       "    </tr>\n",
       "  </thead>\n",
       "  <tbody>\n",
       "    <tr>\n",
       "      <th>0</th>\n",
       "      <td>0</td>\n",
       "      <td>103088</td>\n",
       "      <td>2014-12-24 00:00:00</td>\n",
       "      <td>101842.233424</td>\n",
       "      <td>NaN</td>\n",
       "    </tr>\n",
       "    <tr>\n",
       "      <th>1</th>\n",
       "      <td>1</td>\n",
       "      <td>103088</td>\n",
       "      <td>2014-12-24 01:00:00</td>\n",
       "      <td>105878.048906</td>\n",
       "      <td>NaN</td>\n",
       "    </tr>\n",
       "    <tr>\n",
       "      <th>2</th>\n",
       "      <td>2</td>\n",
       "      <td>103088</td>\n",
       "      <td>2014-12-24 02:00:00</td>\n",
       "      <td>91619.105008</td>\n",
       "      <td>NaN</td>\n",
       "    </tr>\n",
       "    <tr>\n",
       "      <th>3</th>\n",
       "      <td>3</td>\n",
       "      <td>103088</td>\n",
       "      <td>2014-12-24 03:00:00</td>\n",
       "      <td>94473.706203</td>\n",
       "      <td>NaN</td>\n",
       "    </tr>\n",
       "    <tr>\n",
       "      <th>4</th>\n",
       "      <td>4</td>\n",
       "      <td>103088</td>\n",
       "      <td>2014-12-24 04:00:00</td>\n",
       "      <td>96976.755526</td>\n",
       "      <td>NaN</td>\n",
       "    </tr>\n",
       "  </tbody>\n",
       "</table>\n",
       "</div>"
      ],
      "text/plain": [
       "   Unnamed: 0  series_id            timestamp    consumption  temperature\n",
       "0           0     103088  2014-12-24 00:00:00  101842.233424          NaN\n",
       "1           1     103088  2014-12-24 01:00:00  105878.048906          NaN\n",
       "2           2     103088  2014-12-24 02:00:00   91619.105008          NaN\n",
       "3           3     103088  2014-12-24 03:00:00   94473.706203          NaN\n",
       "4           4     103088  2014-12-24 04:00:00   96976.755526          NaN"
      ]
     },
     "execution_count": 81,
     "metadata": {},
     "output_type": "execute_result"
    }
   ],
   "source": [
    "# Look at the first few rows of the consumption train data set\n",
    "train_df.head()"
   ]
  },
  {
   "cell_type": "code",
   "execution_count": 33,
   "metadata": {},
   "outputs": [
    {
     "name": "stdout",
     "output_type": "stream",
     "text": [
      "<class 'pandas.core.frame.DataFrame'>\n",
      "RangeIndex: 509376 entries, 0 to 509375\n",
      "Data columns (total 5 columns):\n",
      "Unnamed: 0     509376 non-null int64\n",
      "series_id      509376 non-null int64\n",
      "timestamp      509376 non-null object\n",
      "consumption    509376 non-null float64\n",
      "temperature    280687 non-null float64\n",
      "dtypes: float64(2), int64(2), object(1)\n",
      "memory usage: 19.4+ MB\n"
     ]
    }
   ],
   "source": [
    "train_df.info()"
   ]
  },
  {
   "cell_type": "markdown",
   "metadata": {},
   "source": [
    "#### Cold start test data set (cold_start_test.csv)\n",
    "\n",
    "Test data used to start a forecast. Includes metadata about prediction window as well as time series data on consumption.\n",
    "\n",
    "* series_id - An ID number for the time series, matches across datasets\n",
    "* timestamp - The time of the measurement\n",
    "* consumption - Consumption (watt-hours) since the last measurement\n",
    "* temperature - Outdoor temperature (Celsius) during measurement from nearby weather stations, some values missing"
   ]
  },
  {
   "cell_type": "code",
   "execution_count": 35,
   "metadata": {},
   "outputs": [
    {
     "data": {
      "text/html": [
       "<div>\n",
       "<style scoped>\n",
       "    .dataframe tbody tr th:only-of-type {\n",
       "        vertical-align: middle;\n",
       "    }\n",
       "\n",
       "    .dataframe tbody tr th {\n",
       "        vertical-align: top;\n",
       "    }\n",
       "\n",
       "    .dataframe thead th {\n",
       "        text-align: right;\n",
       "    }\n",
       "</style>\n",
       "<table border=\"1\" class=\"dataframe\">\n",
       "  <thead>\n",
       "    <tr style=\"text-align: right;\">\n",
       "      <th></th>\n",
       "      <th>Unnamed: 0</th>\n",
       "      <th>series_id</th>\n",
       "      <th>timestamp</th>\n",
       "      <th>consumption</th>\n",
       "      <th>temperature</th>\n",
       "    </tr>\n",
       "  </thead>\n",
       "  <tbody>\n",
       "    <tr>\n",
       "      <th>0</th>\n",
       "      <td>0</td>\n",
       "      <td>102781</td>\n",
       "      <td>2013-02-27 00:00:00</td>\n",
       "      <td>15295.740389</td>\n",
       "      <td>17.00</td>\n",
       "    </tr>\n",
       "    <tr>\n",
       "      <th>1</th>\n",
       "      <td>1</td>\n",
       "      <td>102781</td>\n",
       "      <td>2013-02-27 01:00:00</td>\n",
       "      <td>15163.209562</td>\n",
       "      <td>18.25</td>\n",
       "    </tr>\n",
       "    <tr>\n",
       "      <th>2</th>\n",
       "      <td>2</td>\n",
       "      <td>102781</td>\n",
       "      <td>2013-02-27 02:00:00</td>\n",
       "      <td>15022.264079</td>\n",
       "      <td>18.00</td>\n",
       "    </tr>\n",
       "    <tr>\n",
       "      <th>3</th>\n",
       "      <td>3</td>\n",
       "      <td>102781</td>\n",
       "      <td>2013-02-27 03:00:00</td>\n",
       "      <td>15370.420458</td>\n",
       "      <td>17.00</td>\n",
       "    </tr>\n",
       "    <tr>\n",
       "      <th>4</th>\n",
       "      <td>4</td>\n",
       "      <td>102781</td>\n",
       "      <td>2013-02-27 04:00:00</td>\n",
       "      <td>15303.103213</td>\n",
       "      <td>16.90</td>\n",
       "    </tr>\n",
       "  </tbody>\n",
       "</table>\n",
       "</div>"
      ],
      "text/plain": [
       "   Unnamed: 0  series_id            timestamp   consumption  temperature\n",
       "0           0     102781  2013-02-27 00:00:00  15295.740389        17.00\n",
       "1           1     102781  2013-02-27 01:00:00  15163.209562        18.25\n",
       "2           2     102781  2013-02-27 02:00:00  15022.264079        18.00\n",
       "3           3     102781  2013-02-27 03:00:00  15370.420458        17.00\n",
       "4           4     102781  2013-02-27 04:00:00  15303.103213        16.90"
      ]
     },
     "execution_count": 35,
     "metadata": {},
     "output_type": "execute_result"
    }
   ],
   "source": [
    "# Look at the first few rows of the cold start test data set\n",
    "test_df.head()"
   ]
  },
  {
   "cell_type": "code",
   "execution_count": 36,
   "metadata": {},
   "outputs": [
    {
     "name": "stdout",
     "output_type": "stream",
     "text": [
      "<class 'pandas.core.frame.DataFrame'>\n",
      "RangeIndex: 111984 entries, 0 to 111983\n",
      "Data columns (total 5 columns):\n",
      "Unnamed: 0     111984 non-null int64\n",
      "series_id      111984 non-null int64\n",
      "timestamp      111984 non-null object\n",
      "consumption    111984 non-null float64\n",
      "temperature    67068 non-null float64\n",
      "dtypes: float64(2), int64(2), object(1)\n",
      "memory usage: 4.3+ MB\n"
     ]
    }
   ],
   "source": [
    "test_df.info()"
   ]
  },
  {
   "cell_type": "markdown",
   "metadata": {},
   "source": [
    "#### Building Metadata data set (meta.csv)\n",
    "\n",
    "Additional information about the included buildings in the train and test set.\n",
    "\n",
    "* series_id - An ID number for the time series, matches across datasets\n",
    "* surface - The surface area of the building (ordinal)\n",
    "* base_temperature - The base temperature that the inside of the building is set to (ordinal)\n",
    "* monday_is_day_off - Whether or not the building is operational this day\n",
    "* tuesday_is_day_off - Whether or not the building is operational this day\n",
    "* wednesday_is_day_off - Whether or not the building is operational this day\n",
    "* thursday_is_day_off - Whether or not the building is operational this day\n",
    "* friday_is_day_off - Whether or not the building is operational this day\n",
    "* saturday_is_day_off - Whether or not the building is operational this day\n",
    "* sunday_is_day_off - Whether or not the building is operational this day"
   ]
  },
  {
   "cell_type": "code",
   "execution_count": 37,
   "metadata": {},
   "outputs": [
    {
     "data": {
      "text/html": [
       "<div>\n",
       "<style scoped>\n",
       "    .dataframe tbody tr th:only-of-type {\n",
       "        vertical-align: middle;\n",
       "    }\n",
       "\n",
       "    .dataframe tbody tr th {\n",
       "        vertical-align: top;\n",
       "    }\n",
       "\n",
       "    .dataframe thead th {\n",
       "        text-align: right;\n",
       "    }\n",
       "</style>\n",
       "<table border=\"1\" class=\"dataframe\">\n",
       "  <thead>\n",
       "    <tr style=\"text-align: right;\">\n",
       "      <th></th>\n",
       "      <th>series_id</th>\n",
       "      <th>surface</th>\n",
       "      <th>base_temperature</th>\n",
       "      <th>monday_is_day_off</th>\n",
       "      <th>tuesday_is_day_off</th>\n",
       "      <th>wednesday_is_day_off</th>\n",
       "      <th>thursday_is_day_off</th>\n",
       "      <th>friday_is_day_off</th>\n",
       "      <th>saturday_is_day_off</th>\n",
       "      <th>sunday_is_day_off</th>\n",
       "    </tr>\n",
       "  </thead>\n",
       "  <tbody>\n",
       "    <tr>\n",
       "      <th>0</th>\n",
       "      <td>100003</td>\n",
       "      <td>x-large</td>\n",
       "      <td>low</td>\n",
       "      <td>False</td>\n",
       "      <td>False</td>\n",
       "      <td>False</td>\n",
       "      <td>False</td>\n",
       "      <td>False</td>\n",
       "      <td>True</td>\n",
       "      <td>True</td>\n",
       "    </tr>\n",
       "    <tr>\n",
       "      <th>1</th>\n",
       "      <td>100004</td>\n",
       "      <td>x-large</td>\n",
       "      <td>low</td>\n",
       "      <td>False</td>\n",
       "      <td>False</td>\n",
       "      <td>False</td>\n",
       "      <td>False</td>\n",
       "      <td>False</td>\n",
       "      <td>True</td>\n",
       "      <td>True</td>\n",
       "    </tr>\n",
       "    <tr>\n",
       "      <th>2</th>\n",
       "      <td>100006</td>\n",
       "      <td>x-small</td>\n",
       "      <td>low</td>\n",
       "      <td>False</td>\n",
       "      <td>False</td>\n",
       "      <td>False</td>\n",
       "      <td>False</td>\n",
       "      <td>False</td>\n",
       "      <td>True</td>\n",
       "      <td>True</td>\n",
       "    </tr>\n",
       "    <tr>\n",
       "      <th>3</th>\n",
       "      <td>100008</td>\n",
       "      <td>x-small</td>\n",
       "      <td>low</td>\n",
       "      <td>False</td>\n",
       "      <td>False</td>\n",
       "      <td>False</td>\n",
       "      <td>False</td>\n",
       "      <td>False</td>\n",
       "      <td>True</td>\n",
       "      <td>True</td>\n",
       "    </tr>\n",
       "    <tr>\n",
       "      <th>4</th>\n",
       "      <td>100010</td>\n",
       "      <td>x-small</td>\n",
       "      <td>low</td>\n",
       "      <td>False</td>\n",
       "      <td>False</td>\n",
       "      <td>False</td>\n",
       "      <td>False</td>\n",
       "      <td>False</td>\n",
       "      <td>True</td>\n",
       "      <td>True</td>\n",
       "    </tr>\n",
       "  </tbody>\n",
       "</table>\n",
       "</div>"
      ],
      "text/plain": [
       "   series_id  surface base_temperature  monday_is_day_off  tuesday_is_day_off  \\\n",
       "0     100003  x-large              low              False               False   \n",
       "1     100004  x-large              low              False               False   \n",
       "2     100006  x-small              low              False               False   \n",
       "3     100008  x-small              low              False               False   \n",
       "4     100010  x-small              low              False               False   \n",
       "\n",
       "   wednesday_is_day_off  thursday_is_day_off  friday_is_day_off  \\\n",
       "0                 False                False              False   \n",
       "1                 False                False              False   \n",
       "2                 False                False              False   \n",
       "3                 False                False              False   \n",
       "4                 False                False              False   \n",
       "\n",
       "   saturday_is_day_off  sunday_is_day_off  \n",
       "0                 True               True  \n",
       "1                 True               True  \n",
       "2                 True               True  \n",
       "3                 True               True  \n",
       "4                 True               True  "
      ]
     },
     "execution_count": 37,
     "metadata": {},
     "output_type": "execute_result"
    }
   ],
   "source": [
    "# Look at the first few rows of the building meta data set \n",
    "meta_df.head()"
   ]
  },
  {
   "cell_type": "code",
   "execution_count": 38,
   "metadata": {},
   "outputs": [
    {
     "name": "stdout",
     "output_type": "stream",
     "text": [
      "<class 'pandas.core.frame.DataFrame'>\n",
      "RangeIndex: 1383 entries, 0 to 1382\n",
      "Data columns (total 10 columns):\n",
      "series_id               1383 non-null int64\n",
      "surface                 1383 non-null object\n",
      "base_temperature        1383 non-null object\n",
      "monday_is_day_off       1383 non-null bool\n",
      "tuesday_is_day_off      1383 non-null bool\n",
      "wednesday_is_day_off    1383 non-null bool\n",
      "thursday_is_day_off     1383 non-null bool\n",
      "friday_is_day_off       1383 non-null bool\n",
      "saturday_is_day_off     1383 non-null bool\n",
      "sunday_is_day_off       1383 non-null bool\n",
      "dtypes: bool(7), int64(1), object(2)\n",
      "memory usage: 41.9+ KB\n"
     ]
    }
   ],
   "source": [
    "meta_df.info()"
   ]
  },
  {
   "cell_type": "markdown",
   "metadata": {},
   "source": [
    "\n",
    "## Data Quality Assessment - Missing or Duplicate Data Observations\n",
    "\n",
    "Use seaborn to create a simple heatmap to check the proportion of missing data"
   ]
  },
  {
   "cell_type": "markdown",
   "metadata": {},
   "source": [
    "### Check the training data set"
   ]
  },
  {
   "cell_type": "code",
   "execution_count": 71,
   "metadata": {},
   "outputs": [
    {
     "data": {
      "text/plain": [
       "<matplotlib.axes._subplots.AxesSubplot at 0x21a891ea080>"
      ]
     },
     "execution_count": 71,
     "metadata": {},
     "output_type": "execute_result"
    },
    {
     "data": {
      "image/png": "[encoded data removed]",
      "text/plain": [
       "<Figure size 1296x504 with 1 Axes>"
      ]
     },
     "metadata": {},
     "output_type": "display_data"
    }
   ],
   "source": [
    "# get an overview of the missing training data fields (NaN) in yellow\n",
    "plt.figure(figsize=(18, 7))\n",
    "sns.heatmap(train_df.isnull(),yticklabels=False,cbar=False,cmap='viridis')"
   ]
  },
  {
   "cell_type": "code",
   "execution_count": 56,
   "metadata": {},
   "outputs": [
    {
     "data": {
      "text/plain": [
       "temperature    0.448959\n",
       "consumption    0.000000\n",
       "timestamp      0.000000\n",
       "series_id      0.000000\n",
       "Unnamed: 0     0.000000\n",
       "dtype: float64"
      ]
     },
     "execution_count": 56,
     "metadata": {},
     "output_type": "execute_result"
    }
   ],
   "source": [
    "# Compute proportion of missing values\n",
    "num_null_val = train_df.isnull().mean().sort_values(ascending=False).head(20)\n",
    "num_null_val"
   ]
  },
  {
   "cell_type": "code",
   "execution_count": 45,
   "metadata": {},
   "outputs": [
    {
     "data": {
      "text/plain": [
       "0"
      ]
     },
     "execution_count": 45,
     "metadata": {},
     "output_type": "execute_result"
    }
   ],
   "source": [
    "# now check for duplicates\n",
    "train_df.duplicated().sum()"
   ]
  },
  {
   "cell_type": "markdown",
   "metadata": {},
   "source": [
    "### Check the test data set"
   ]
  },
  {
   "cell_type": "code",
   "execution_count": 72,
   "metadata": {},
   "outputs": [
    {
     "data": {
      "text/plain": [
       "<matplotlib.axes._subplots.AxesSubplot at 0x21ae6925a58>"
      ]
     },
     "execution_count": 72,
     "metadata": {},
     "output_type": "execute_result"
    },
    {
     "data": {
      "image/png": "[encoded data removed]",
      "text/plain": [
       "<Figure size 1296x504 with 1 Axes>"
      ]
     },
     "metadata": {},
     "output_type": "display_data"
    }
   ],
   "source": [
    "# get an overview of the missing test data fields (NaN) in yellow\n",
    "plt.figure(figsize=(18, 7))\n",
    "sns.heatmap(test_df.isnull(),yticklabels=False,cbar=False,cmap='viridis')"
   ]
  },
  {
   "cell_type": "code",
   "execution_count": 57,
   "metadata": {},
   "outputs": [
    {
     "data": {
      "text/plain": [
       "temperature    0.401093\n",
       "consumption    0.000000\n",
       "timestamp      0.000000\n",
       "series_id      0.000000\n",
       "Unnamed: 0     0.000000\n",
       "dtype: float64"
      ]
     },
     "execution_count": 57,
     "metadata": {},
     "output_type": "execute_result"
    }
   ],
   "source": [
    "# Compute proportion of missing values\n",
    "num_null_val = test_df.isnull().mean().sort_values(ascending=False).head(20)\n",
    "num_null_val"
   ]
  },
  {
   "cell_type": "code",
   "execution_count": 47,
   "metadata": {},
   "outputs": [
    {
     "data": {
      "text/plain": [
       "0"
      ]
     },
     "execution_count": 47,
     "metadata": {},
     "output_type": "execute_result"
    }
   ],
   "source": [
    "test_df.duplicated().sum()"
   ]
  },
  {
   "cell_type": "markdown",
   "metadata": {},
   "source": [
    "### Check the meta data set"
   ]
  },
  {
   "cell_type": "code",
   "execution_count": 73,
   "metadata": {},
   "outputs": [
    {
     "data": {
      "text/plain": [
       "<matplotlib.axes._subplots.AxesSubplot at 0x21a84fbd400>"
      ]
     },
     "execution_count": 73,
     "metadata": {},
     "output_type": "execute_result"
    },
    {
     "data": {
      "image/png": "[encoded data removed]",
      "text/plain": [
       "<Figure size 1296x504 with 1 Axes>"
      ]
     },
     "metadata": {},
     "output_type": "display_data"
    }
   ],
   "source": [
    "# get an overview of the missing training data fields (NaN) in yellow\n",
    "plt.figure(figsize=(18, 7))\n",
    "sns.heatmap(meta_df.isnull(),yticklabels=False,cbar=False,cmap='viridis')"
   ]
  },
  {
   "cell_type": "code",
   "execution_count": 58,
   "metadata": {},
   "outputs": [
    {
     "data": {
      "text/plain": [
       "sunday_is_day_off       0.0\n",
       "saturday_is_day_off     0.0\n",
       "friday_is_day_off       0.0\n",
       "thursday_is_day_off     0.0\n",
       "wednesday_is_day_off    0.0\n",
       "tuesday_is_day_off      0.0\n",
       "monday_is_day_off       0.0\n",
       "base_temperature        0.0\n",
       "surface                 0.0\n",
       "series_id               0.0\n",
       "dtype: float64"
      ]
     },
     "execution_count": 58,
     "metadata": {},
     "output_type": "execute_result"
    }
   ],
   "source": [
    "# Compute proportion of missing values\n",
    "num_null_val = meta_df.isnull().mean().sort_values(ascending=False).head(20)\n",
    "num_null_val"
   ]
  },
  {
   "cell_type": "code",
   "execution_count": 59,
   "metadata": {},
   "outputs": [
    {
     "data": {
      "text/plain": [
       "0"
      ]
     },
     "execution_count": 59,
     "metadata": {},
     "output_type": "execute_result"
    }
   ],
   "source": [
    "meta_df.duplicated().sum()"
   ]
  },
  {
   "cell_type": "markdown",
   "metadata": {},
   "source": [
    "#### Let's save our pandas data frames to use in the next python notebook"
   ]
  },
  {
   "cell_type": "code",
   "execution_count": 68,
   "metadata": {},
   "outputs": [],
   "source": [
    "# Save our panda dfs in raw-data\n",
    "train_df.to_pickle(raw_data_directory + 'train_df.pkl')\n",
    "test_df.to_pickle(raw_data_directory + 'test_df.pkl')\n",
    "meta_df.to_pickle(raw_data_directory + 'meta_df.pkl')"
   ]
  },
  {
   "cell_type": "code",
   "execution_count": 69,
   "metadata": {},
   "outputs": [
    {
     "name": "stdout",
     "output_type": "stream",
     "text": [
      " Volume in drive E is DATA\n",
      " Volume Serial Number is 6E98-6AE7\n",
      "\n",
      " Directory of E:\\GitHub\\DataDriven.org\\Energy_Forecasting\\data\\raw\n",
      "\n",
      "09/30/2018  07:59 PM    <DIR>          .\n",
      "09/30/2018  07:59 PM    <DIR>          ..\n",
      "09/30/2018  06:51 PM                 0 .gitkeep\n",
      "09/29/2018  10:41 AM         6,439,151 cold_start_test.csv\n",
      "09/30/2018  06:54 PM        29,323,946 consumption_train.csv\n",
      "09/30/2018  06:54 PM            81,565 meta.csv\n",
      "09/30/2018  07:59 PM            27,469 meta_df.pkl\n",
      "09/30/2018  06:55 PM           376,747 submission_format.csv\n",
      "09/30/2018  07:59 PM         4,767,322 test_df.pkl\n",
      "09/30/2018  07:59 PM        20,771,586 train_df.pkl\n",
      "               8 File(s)     61,787,786 bytes\n",
      "               2 Dir(s)  1,904,316,280,832 bytes free\n"
     ]
    }
   ],
   "source": [
    "!dir $raw_data_directory"
   ]
  },
  {
   "cell_type": "markdown",
   "metadata": {},
   "source": [
    "### In the next phase and Jupyter notebook, we will clean and pre-process our data to feed in our ML benchmark (logistic regression)"
   ]
  },
  {
   "cell_type": "code",
   "execution_count": null,
   "metadata": {},
   "outputs": [],
   "source": []
  }
 ],
 "metadata": {
  "kernelspec": {
   "display_name": "Python 3",
   "language": "python",
   "name": "python3"
  },
  "language_info": {
   "codemirror_mode": {
    "name": "ipython",
    "version": 3
   },
   "file_extension": ".py",
   "mimetype": "text/x-python",
   "name": "python",
   "nbconvert_exporter": "python",
   "pygments_lexer": "ipython3",
   "version": "3.6.6"
  }
 },
 "nbformat": 4,
 "nbformat_minor": 1
}
